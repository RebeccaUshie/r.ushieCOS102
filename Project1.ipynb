{
 "cells": [
  {
   "cell_type": "code",
   "execution_count": 29,
   "id": "89adc328-0ca6-4def-9c0e-644c105bf08b",
   "metadata": {},
   "outputs": [
    {
     "name": "stdout",
     "output_type": "stream",
     "text": [
      "8750.0\n",
      "Your Simple interest = 8750.0\n",
      "2815675740473.633\n",
      "Your Compound interest = 2815675740473.633\n",
      "187711715698.2422\n",
      "Your Annuinty plan = 187711715698.2422\n"
     ]
    }
   ],
   "source": [
    "# Inputing values\n",
    "P = 5000\n",
    "R = 15\n",
    "T = 5\n",
    "n = 2\n",
    "PMT = 2500\n",
    "Simple_Interest_A = P*(1+(R/100)*T)\n",
    "print(Simple_Interest_A)\n",
    "print(\"Your Simple interest =\", Simple_Interest_A)\n",
    "\n",
    "Compound_Interest_A = P*(1+(R/n)**(n*T))\n",
    "print(Compound_Interest_A)\n",
    "print(\"Your Compound interest =\", Compound_Interest_A)\n",
    "\n",
    "Annuinty_plan_A = PMT*((1+(R/n)**(n*T) - 1)/(R/n))\n",
    "print(Annuinty_plan_A)\n",
    "print(\"Your Annuinty plan =\",Annuinty_plan_A)\n"
   ]
  },
  {
   "cell_type": "code",
   "execution_count": null,
   "id": "b70535ca-a038-4670-9b53-bb48beb4515b",
   "metadata": {},
   "outputs": [],
   "source": []
  }
 ],
 "metadata": {
  "kernelspec": {
   "display_name": "Python [conda env:base] *",
   "language": "python",
   "name": "conda-base-py"
  },
  "language_info": {
   "codemirror_mode": {
    "name": "ipython",
    "version": 3
   },
   "file_extension": ".py",
   "mimetype": "text/x-python",
   "name": "python",
   "nbconvert_exporter": "python",
   "pygments_lexer": "ipython3",
   "version": "3.12.7"
  }
 },
 "nbformat": 4,
 "nbformat_minor": 5
}
