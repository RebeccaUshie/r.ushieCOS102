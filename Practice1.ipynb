{
 "cells": [
  {
   "cell_type": "code",
   "execution_count": 2,
   "id": "3a64eedd-91cb-4c96-aad0-4a715dac588a",
   "metadata": {},
   "outputs": [
    {
     "name": "stdout",
     "output_type": "stream",
     "text": [
      "100\n",
      "Datatype of variable num is <class 'int'>\n"
     ]
    }
   ],
   "source": [
    "# Integer number\n",
    "num = 100\n",
    "print(num)\n",
    "print(\"Datatype of variable num is\", type(num))"
   ]
  },
  {
   "cell_type": "code",
   "execution_count": 4,
   "id": "4997d418-bd54-42d1-8eb3-943e812971d4",
   "metadata": {},
   "outputs": [
    {
     "name": "stdout",
     "output_type": "stream",
     "text": [
      "34.45\n",
      "Datatype of variable fnum is <class 'float'>\n"
     ]
    }
   ],
   "source": [
    "# float number\n",
    "fnum = 34.45\n",
    "print(fnum)\n",
    "print(\"Datatype of variable fnum is\", type(fnum))"
   ]
  },
  {
   "cell_type": "code",
   "execution_count": 6,
   "id": "17dade1b-2ca1-4b9d-9346-4e5d0561e577",
   "metadata": {},
   "outputs": [
    {
     "name": "stdout",
     "output_type": "stream",
     "text": [
      "(3+4j)\n",
      "Datatype pf variable cnum is <class 'complex'>\n"
     ]
    }
   ],
   "source": [
    "# complex number\n",
    "cnum =3 + 4j\n",
    "print(cnum)\n",
    "print(\"Datatype pf variable cnum is\",type(cnum))"
   ]
  },
  {
   "cell_type": "code",
   "execution_count": null,
   "id": "7fad43cb-7294-43d4-84f6-36a57dd87395",
   "metadata": {},
   "outputs": [],
   "source": []
  },
  {
   "cell_type": "code",
   "execution_count": null,
   "id": "c81316d8-88b7-4207-9b56-5dc94f2ebcd3",
   "metadata": {},
   "outputs": [],
   "source": []
  }
 ],
 "metadata": {
  "kernelspec": {
   "display_name": "Python [conda env:base] *",
   "language": "python",
   "name": "conda-base-py"
  },
  "language_info": {
   "codemirror_mode": {
    "name": "ipython",
    "version": 3
   },
   "file_extension": ".py",
   "mimetype": "text/x-python",
   "name": "python",
   "nbconvert_exporter": "python",
   "pygments_lexer": "ipython3",
   "version": "3.12.7"
  }
 },
 "nbformat": 4,
 "nbformat_minor": 5
}
