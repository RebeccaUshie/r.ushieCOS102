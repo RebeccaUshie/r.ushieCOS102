{
 "cells": [
  {
   "cell_type": "code",
   "execution_count": 1,
   "id": "3b31f68f-a1da-41d6-996a-38faa300a9b9",
   "metadata": {},
   "outputs": [
    {
     "name": "stdout",
     "output_type": "stream",
     "text": [
      "Welcome to the COUPE DE ESCRIVA 2023: FOOTBALL PICKS \n",
      "\n",
      "Madiba Chubby Obiora-Okafor\n",
      "Blue-Jays Christopher Uweh\n",
      "Cirok Alexander\n",
      "TSG Walkers Ikechukwu\n",
      "\n",
      "\n",
      "Madiba Chubby Obiora-Okafor\n",
      "Blue-Jays Oladimeji Abaniwonda/Jeffery Awagu\n",
      "Cirok Timileyin Pearse/Tizuka Jeremy\n",
      "TSG Walkers Ayomide Ojituku\n"
     ]
    }
   ],
   "source": [
    "# COUPE DE ESCRIVA 2023: FOOTBALL PICKS\n",
    "\n",
    "print(\"Welcome to the COUPE DE ESCRIVA 2023: FOOTBALL PICKS \\n\")\n",
    "\n",
    "captain = {'Madiba': 'Chubby Obiora-Okafor', \n",
    "           'Blue-Jays': 'Christopher Uweh', \n",
    "           'Cirok': 'Alexander', \n",
    "           'TSG Walkers': 'Ikechukwu'}\n",
    "\n",
    "goalkeepers = {'Madiba': 'Chubby Obiora-Okafor', \n",
    "               'Blue-Jays': 'Oladimeji Abaniwonda/Jeffery Awagu', \n",
    "               'Cirok': 'Timileyin Pearse/Tizuka Jeremy', \n",
    "               'TSG Walkers': 'Ayomide Ojituku'}\n",
    "\n",
    "for pick in captain:\n",
    "    print(pick, captain[pick])\n",
    "\n",
    "print(\"\\n\")\n",
    "\n",
    "for pick in goalkeepers:\n",
    "    print(pick, goalkeepers[pick])"
   ]
  },
  {
   "cell_type": "code",
   "execution_count": null,
   "id": "de982172-eef6-4425-a06f-f154e1f2d684",
   "metadata": {},
   "outputs": [],
   "source": []
  }
 ],
 "metadata": {
  "kernelspec": {
   "display_name": "Python [conda env:base] *",
   "language": "python",
   "name": "conda-base-py"
  },
  "language_info": {
   "codemirror_mode": {
    "name": "ipython",
    "version": 3
   },
   "file_extension": ".py",
   "mimetype": "text/x-python",
   "name": "python",
   "nbconvert_exporter": "python",
   "pygments_lexer": "ipython3",
   "version": "3.12.7"
  }
 },
 "nbformat": 4,
 "nbformat_minor": 5
}
