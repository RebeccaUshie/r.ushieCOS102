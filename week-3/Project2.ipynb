{
 "cells": [
  {
   "cell_type": "code",
   "execution_count": 3,
   "id": "0c5d8c93-911a-4d2d-a7da-df1ce82e2c54",
   "metadata": {},
   "outputs": [
    {
     "name": "stdout",
     "output_type": "stream",
     "text": [
      "Hello! Welcome to Izifin Technology.\n"
     ]
    },
    {
     "name": "stdin",
     "output_type": "stream",
     "text": [
      "Kindly Eeter your years of experiience 5\n",
      "Kindly enter your age 34\n"
     ]
    },
    {
     "name": "stdout",
     "output_type": "stream",
     "text": [
      "You are a staff with 5 years of experience and is currently aged 34 ,Therefore you haveN550000 Annual tax revenue\n"
     ]
    }
   ],
   "source": [
    "print(\"Hello! Welcome to Izifin Technology.\")\n",
    "years_of_experience = int(input(\"Kindly Eeter your years of experiience\"))\n",
    "age = int(input(\"Kindly enter your age\"))\n",
    "\n",
    "if  years_of_experience > 25 and age >= 55:\n",
    "     Annual_tax_revenue = 5600000\n",
    "elif years_of_experience > 20 and age >= 45:\n",
    "    Annual_tax_revenue = 4480000\n",
    "\n",
    "elif years_of_experience >10 and age >=35:\n",
    "    Annual_tax_revenue = 1500000\n",
    "else: \n",
    "     Annual_tax_revenue = 550000\n",
    "print(f\"You are a staff with {years_of_experience} years of experience and is currently aged {age} ,Therefore you have N{Annual_tax_revenue} Annual tax revenue\")"
   ]
  },
  {
   "cell_type": "code",
   "execution_count": null,
   "id": "36f8c201-97e7-4c78-80a1-73688f907f3f",
   "metadata": {},
   "outputs": [],
   "source": []
  }
 ],
 "metadata": {
  "kernelspec": {
   "display_name": "Python [conda env:base] *",
   "language": "python",
   "name": "conda-base-py"
  },
  "language_info": {
   "codemirror_mode": {
    "name": "ipython",
    "version": 3
   },
   "file_extension": ".py",
   "mimetype": "text/x-python",
   "name": "python",
   "nbconvert_exporter": "python",
   "pygments_lexer": "ipython3",
   "version": "3.12.7"
  }
 },
 "nbformat": 4,
 "nbformat_minor": 5
}
